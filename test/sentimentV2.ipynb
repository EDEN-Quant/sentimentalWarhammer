{
  "nbformat": 4,
  "nbformat_minor": 0,
  "metadata": {
    "colab": {
      "provenance": []
    },
    "kernelspec": {
      "name": "python3",
      "display_name": "Python 3"
    },
    "language_info": {
      "name": "python"
    }
  },
  "cells": [
    {
      "cell_type": "code",
      "execution_count": 2,
      "metadata": {
        "id": "4Qe8qwiep0sq"
      },
      "outputs": [],
      "source": [
        "!pip install -q transformers\n",
        "from transformers import pipeline"
      ]
    },
    {
      "cell_type": "code",
      "source": [
        "sentiment_pipeline = pipeline(\"sentiment-analysis\")\n",
        "\n",
        "def getMostPositive(sentence):\n",
        "    max = 0\n",
        "    for word in sentence.split():\n",
        "        polar = sentiment_pipeline(word)[0]\n",
        "        if polar.get('label') == \"POSITIVE\" and polar.get(\"score\") > max:\n",
        "            max = polar.get(\"score\")\n",
        "            mostPositive = word\n",
        "    return mostPositive\n",
        "\n",
        "def getMostNegative(sentence):\n",
        "    max = 0\n",
        "    for word in sentence.split():\n",
        "        polar = sentiment_pipeline(word)[0]\n",
        "        if polar.get('label') == \"NEGATIVE\" and polar.get(\"score\") > max:\n",
        "            max = polar.get(\"score\")\n",
        "            mostNegative = word\n",
        "    return mostNegative\n",
        "\n",
        "def getPolarity(sentence):\n",
        "    polar = sentiment_pipeline(sentence)[0]\n",
        "    if polar.get('label') == \"NEGATIVE\":\n",
        "        polar = polar.get('score')*(-1)\n",
        "    else:\n",
        "        polar = polar.get('score')\n",
        "    return polar\n",
        "\n",
        "def main(dataset):\n",
        "    positive = 0\n",
        "    negative = 0\n",
        "    neutral = 0\n",
        "    sum = 0.0\n",
        "    positiveWords = {}\n",
        "    negativeWords = {}\n",
        "\n",
        "    for sentence in dataset:\n",
        "\n",
        "        polar = getPolarity(sentence)\n",
        "\n",
        "        sum += polar\n",
        "\n",
        "        if polar > 0.8:\n",
        "            positive+=1\n",
        "            mostPositive = getMostPositive(sentence)\n",
        "            if positiveWords.get(mostPositive):\n",
        "                positiveWords[mostPositive] += 1\n",
        "            else:\n",
        "                positiveWords[mostPositive] = 1\n",
        "        elif polar < -0.8:\n",
        "            negative+=1\n",
        "            mostNegative = getMostNegative(sentence)\n",
        "            if negativeWords.get(mostNegative):\n",
        "                negativeWords[mostNegative] += 1\n",
        "            else:\n",
        "                negativeWords[mostNegative] = 1\n",
        "        else:\n",
        "            neutral+=1\n",
        "\n",
        "\n",
        "    positivePercentage = positive/len(dataset)\n",
        "    negativePercentage = negative/len(dataset)\n",
        "    average = sum/len(dataset)\n",
        "    mostRepeatedPositive = max(positiveWords, key=positiveWords.get)\n",
        "    mostRepeatedNegative = max(negativeWords, key=negativeWords.get)\n",
        "\n",
        "    print(\"\\nEntries analised:\",len(dataset),\"\\nResult:\",positivePercentage*100,\"% were positive and\",negativePercentage*100,\"% were negative\\nThe average sentiment (-1 negative, 1 positive) was\",average)\n",
        "    return positivePercentage, negativePercentage, average, len(dataset), mostRepeatedPositive, mostRepeatedNegative\n",
        "\n",
        "dataset = [\"I hate this product\", \"I love this product\",\"What are you saying? This product is awful\",\"I can't believe I bought it, its a waste of money\",\"not that bad\",\"meh, it was okay\",\"It is too expensive\",\"its shit\"]\n",
        "main(dataset)"
      ],
      "metadata": {
        "colab": {
          "base_uri": "https://localhost:8080/"
        },
        "id": "lqSP27hOuyC6",
        "outputId": "56e71fdb-d50f-4468-b07e-927a4a2329b2"
      },
      "execution_count": 27,
      "outputs": [
        {
          "output_type": "stream",
          "name": "stderr",
          "text": [
            "No model was supplied, defaulted to distilbert/distilbert-base-uncased-finetuned-sst-2-english and revision 714eb0f (https://huggingface.co/distilbert/distilbert-base-uncased-finetuned-sst-2-english).\n",
            "Using a pipeline without specifying a model name and revision in production is not recommended.\n",
            "Device set to use cpu\n"
          ]
        },
        {
          "output_type": "stream",
          "name": "stdout",
          "text": [
            "\n",
            "Entries analised: 8 \n",
            "Result: 37.5 % were positive and 62.5 % were negative\n",
            "The average sentiment (-1 negative, 1 positive) was -0.24984513223171234\n"
          ]
        },
        {
          "output_type": "execute_result",
          "data": {
            "text/plain": [
              "(0.375, 0.625, -0.24984513223171234, 8, 'love', 'hate')"
            ]
          },
          "metadata": {},
          "execution_count": 27
        }
      ]
    }
  ]
}